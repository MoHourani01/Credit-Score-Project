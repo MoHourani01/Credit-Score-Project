{
  "cells": [
    {
      "cell_type": "markdown",
      "id": "9OJYbtOnY9lK",
      "metadata": {
        "id": "9OJYbtOnY9lK"
      },
      "source": [
        "# Import Libraries"
      ]
    },
    {
      "cell_type": "code",
      "execution_count": null,
      "id": "8ae4a8d6",
      "metadata": {
        "id": "8ae4a8d6"
      },
      "outputs": [],
      "source": [
        "import warnings\n",
        "warnings.filterwarnings('ignore')\n",
        "import pandas as pd\n",
        "import numpy as np\n",
        "from sklearn.model_selection import train_test_split\n",
        "from sklearn.metrics import classification_report\n",
        "from sklearn.metrics import confusion_matrix\n",
        "from sklearn.ensemble import GradientBoostingClassifier\n",
        "from sklearn.model_selection import StratifiedKFold\n",
        "from sklearn.model_selection import RandomizedSearchCV\n",
        "from sklearn.preprocessing import PowerTransformer\n",
        "import pickle"
      ]
    },
    {
      "cell_type": "markdown",
      "id": "ZkalJKMIZKaV",
      "metadata": {
        "id": "ZkalJKMIZKaV"
      },
      "source": [
        "# Read Data"
      ]
    },
    {
      "cell_type": "code",
      "execution_count": null,
      "id": "fab95206",
      "metadata": {
        "colab": {
          "base_uri": "https://localhost:8080/",
          "height": 652
        },
        "id": "fab95206",
        "outputId": "a033cdb4-795f-4332-d20b-e6967bdfd5e3"
      },
      "outputs": [
        {
          "data": {
            "text/html": [
              "<div>\n",
              "<style scoped>\n",
              "    .dataframe tbody tr th:only-of-type {\n",
              "        vertical-align: middle;\n",
              "    }\n",
              "\n",
              "    .dataframe tbody tr th {\n",
              "        vertical-align: top;\n",
              "    }\n",
              "\n",
              "    .dataframe thead th {\n",
              "        text-align: right;\n",
              "    }\n",
              "</style>\n",
              "<table border=\"1\" class=\"dataframe\">\n",
              "  <thead>\n",
              "    <tr style=\"text-align: right;\">\n",
              "      <th></th>\n",
              "      <th>Customer_ID</th>\n",
              "      <th>Month</th>\n",
              "      <th>Name</th>\n",
              "      <th>Age</th>\n",
              "      <th>SSN</th>\n",
              "      <th>Occupation</th>\n",
              "      <th>Annual_Income</th>\n",
              "      <th>Monthly_Inhand_Salary</th>\n",
              "      <th>Num_Bank_Accounts</th>\n",
              "      <th>Num_Credit_Card</th>\n",
              "      <th>Interest_Rate</th>\n",
              "      <th>Num_of_Loan</th>\n",
              "      <th>Type_of_Loan</th>\n",
              "      <th>Delay_from_due_date</th>\n",
              "      <th>Num_of_Delayed_Payment</th>\n",
              "      <th>Changed_Credit_Limit</th>\n",
              "      <th>Num_Credit_Inquiries</th>\n",
              "      <th>Credit_Mix</th>\n",
              "      <th>Outstanding_Debt</th>\n",
              "      <th>Credit_Utilization_Ratio</th>\n",
              "      <th>Credit_History_Age</th>\n",
              "      <th>Payment_of_Min_Amount</th>\n",
              "      <th>Total_EMI_per_month</th>\n",
              "      <th>Amount_invested_monthly</th>\n",
              "      <th>Payment_Behaviour</th>\n",
              "      <th>Monthly_Balance</th>\n",
              "      <th>Credit_Score</th>\n",
              "      <th>Annual-cat</th>\n",
              "      <th>history-age-cat</th>\n",
              "      <th>age_cat</th>\n",
              "      <th>Auto Loan</th>\n",
              "      <th>Credit-Builder Loan</th>\n",
              "      <th>Personal Loan</th>\n",
              "      <th>Not Specified</th>\n",
              "      <th>No Data</th>\n",
              "      <th>Debt Consolidation Loan</th>\n",
              "      <th>Payday Loan</th>\n",
              "      <th>Student Loan</th>\n",
              "      <th>Home Equity Loan</th>\n",
              "      <th>Mortgage Loan</th>\n",
              "      <th>delay_by_customer_mean</th>\n",
              "      <th>monthlyBalance_by_customer_mean</th>\n",
              "    </tr>\n",
              "  </thead>\n",
              "  <tbody>\n",
              "    <tr>\n",
              "      <th>0</th>\n",
              "      <td>3392</td>\n",
              "      <td>1</td>\n",
              "      <td>Aaron Maashoh</td>\n",
              "      <td>23.0</td>\n",
              "      <td>821000265.0</td>\n",
              "      <td>Scientist</td>\n",
              "      <td>19114.12</td>\n",
              "      <td>1824.843333</td>\n",
              "      <td>3.0</td>\n",
              "      <td>4.0</td>\n",
              "      <td>3.0</td>\n",
              "      <td>4.0</td>\n",
              "      <td>Auto Loan, Credit-Builder Loan, Personal Loan,...</td>\n",
              "      <td>3.0</td>\n",
              "      <td>7.0</td>\n",
              "      <td>11.27</td>\n",
              "      <td>4.0</td>\n",
              "      <td>Good</td>\n",
              "      <td>809.98</td>\n",
              "      <td>26.822620</td>\n",
              "      <td>265.0</td>\n",
              "      <td>No</td>\n",
              "      <td>49.574949</td>\n",
              "      <td>21.46538</td>\n",
              "      <td>High_spent_Small_value_payments</td>\n",
              "      <td>312.494089</td>\n",
              "      <td>Good</td>\n",
              "      <td>Lower-Class</td>\n",
              "      <td>greater_than_10 years</td>\n",
              "      <td>18-23</td>\n",
              "      <td>1</td>\n",
              "      <td>1</td>\n",
              "      <td>1</td>\n",
              "      <td>0</td>\n",
              "      <td>0</td>\n",
              "      <td>0</td>\n",
              "      <td>0</td>\n",
              "      <td>0</td>\n",
              "      <td>1</td>\n",
              "      <td>0</td>\n",
              "      <td>4.25</td>\n",
              "      <td>304.555294</td>\n",
              "    </tr>\n",
              "    <tr>\n",
              "      <th>1</th>\n",
              "      <td>3392</td>\n",
              "      <td>2</td>\n",
              "      <td>Aaron Maashoh</td>\n",
              "      <td>23.0</td>\n",
              "      <td>821000265.0</td>\n",
              "      <td>Scientist</td>\n",
              "      <td>19114.12</td>\n",
              "      <td>1824.843333</td>\n",
              "      <td>3.0</td>\n",
              "      <td>4.0</td>\n",
              "      <td>3.0</td>\n",
              "      <td>4.0</td>\n",
              "      <td>Auto Loan, Credit-Builder Loan, Personal Loan,...</td>\n",
              "      <td>3.0</td>\n",
              "      <td>4.0</td>\n",
              "      <td>11.27</td>\n",
              "      <td>4.0</td>\n",
              "      <td>Good</td>\n",
              "      <td>809.98</td>\n",
              "      <td>31.944960</td>\n",
              "      <td>266.0</td>\n",
              "      <td>No</td>\n",
              "      <td>49.574949</td>\n",
              "      <td>21.46538</td>\n",
              "      <td>Low_spent_Large_value_payments</td>\n",
              "      <td>284.629162</td>\n",
              "      <td>Good</td>\n",
              "      <td>Lower-Class</td>\n",
              "      <td>greater_than_10 years</td>\n",
              "      <td>18-23</td>\n",
              "      <td>1</td>\n",
              "      <td>1</td>\n",
              "      <td>1</td>\n",
              "      <td>0</td>\n",
              "      <td>0</td>\n",
              "      <td>0</td>\n",
              "      <td>0</td>\n",
              "      <td>0</td>\n",
              "      <td>1</td>\n",
              "      <td>0</td>\n",
              "      <td>4.25</td>\n",
              "      <td>304.555294</td>\n",
              "    </tr>\n",
              "    <tr>\n",
              "      <th>2</th>\n",
              "      <td>3392</td>\n",
              "      <td>3</td>\n",
              "      <td>Aaron Maashoh</td>\n",
              "      <td>23.0</td>\n",
              "      <td>821000265.0</td>\n",
              "      <td>Scientist</td>\n",
              "      <td>19114.12</td>\n",
              "      <td>1824.843333</td>\n",
              "      <td>3.0</td>\n",
              "      <td>4.0</td>\n",
              "      <td>3.0</td>\n",
              "      <td>4.0</td>\n",
              "      <td>Auto Loan, Credit-Builder Loan, Personal Loan,...</td>\n",
              "      <td>3.0</td>\n",
              "      <td>7.0</td>\n",
              "      <td>11.27</td>\n",
              "      <td>4.0</td>\n",
              "      <td>Good</td>\n",
              "      <td>809.98</td>\n",
              "      <td>28.609352</td>\n",
              "      <td>267.0</td>\n",
              "      <td>No</td>\n",
              "      <td>49.574949</td>\n",
              "      <td>21.46538</td>\n",
              "      <td>Low_spent_Medium_value_payments</td>\n",
              "      <td>331.209863</td>\n",
              "      <td>Good</td>\n",
              "      <td>Lower-Class</td>\n",
              "      <td>greater_than_10 years</td>\n",
              "      <td>18-23</td>\n",
              "      <td>1</td>\n",
              "      <td>1</td>\n",
              "      <td>1</td>\n",
              "      <td>0</td>\n",
              "      <td>0</td>\n",
              "      <td>0</td>\n",
              "      <td>0</td>\n",
              "      <td>0</td>\n",
              "      <td>1</td>\n",
              "      <td>0</td>\n",
              "      <td>4.25</td>\n",
              "      <td>304.555294</td>\n",
              "    </tr>\n",
              "    <tr>\n",
              "      <th>3</th>\n",
              "      <td>3392</td>\n",
              "      <td>4</td>\n",
              "      <td>Aaron Maashoh</td>\n",
              "      <td>23.0</td>\n",
              "      <td>821000265.0</td>\n",
              "      <td>Scientist</td>\n",
              "      <td>19114.12</td>\n",
              "      <td>1824.843333</td>\n",
              "      <td>3.0</td>\n",
              "      <td>4.0</td>\n",
              "      <td>3.0</td>\n",
              "      <td>4.0</td>\n",
              "      <td>Auto Loan, Credit-Builder Loan, Personal Loan,...</td>\n",
              "      <td>5.0</td>\n",
              "      <td>4.0</td>\n",
              "      <td>6.27</td>\n",
              "      <td>4.0</td>\n",
              "      <td>Good</td>\n",
              "      <td>809.98</td>\n",
              "      <td>31.377862</td>\n",
              "      <td>268.0</td>\n",
              "      <td>No</td>\n",
              "      <td>49.574949</td>\n",
              "      <td>21.46538</td>\n",
              "      <td>Low_spent_Small_value_payments</td>\n",
              "      <td>223.451310</td>\n",
              "      <td>Good</td>\n",
              "      <td>Lower-Class</td>\n",
              "      <td>greater_than_10 years</td>\n",
              "      <td>18-23</td>\n",
              "      <td>1</td>\n",
              "      <td>1</td>\n",
              "      <td>1</td>\n",
              "      <td>0</td>\n",
              "      <td>0</td>\n",
              "      <td>0</td>\n",
              "      <td>0</td>\n",
              "      <td>0</td>\n",
              "      <td>1</td>\n",
              "      <td>0</td>\n",
              "      <td>4.25</td>\n",
              "      <td>304.555294</td>\n",
              "    </tr>\n",
              "    <tr>\n",
              "      <th>4</th>\n",
              "      <td>3392</td>\n",
              "      <td>5</td>\n",
              "      <td>Aaron Maashoh</td>\n",
              "      <td>23.0</td>\n",
              "      <td>821000265.0</td>\n",
              "      <td>Scientist</td>\n",
              "      <td>19114.12</td>\n",
              "      <td>1824.843333</td>\n",
              "      <td>3.0</td>\n",
              "      <td>4.0</td>\n",
              "      <td>3.0</td>\n",
              "      <td>4.0</td>\n",
              "      <td>Auto Loan, Credit-Builder Loan, Personal Loan,...</td>\n",
              "      <td>6.0</td>\n",
              "      <td>4.0</td>\n",
              "      <td>11.27</td>\n",
              "      <td>4.0</td>\n",
              "      <td>Good</td>\n",
              "      <td>809.98</td>\n",
              "      <td>24.797347</td>\n",
              "      <td>269.0</td>\n",
              "      <td>No</td>\n",
              "      <td>49.574949</td>\n",
              "      <td>21.46538</td>\n",
              "      <td>High_spent_Medium_value_payments</td>\n",
              "      <td>341.489231</td>\n",
              "      <td>Good</td>\n",
              "      <td>Lower-Class</td>\n",
              "      <td>greater_than_10 years</td>\n",
              "      <td>18-23</td>\n",
              "      <td>1</td>\n",
              "      <td>1</td>\n",
              "      <td>1</td>\n",
              "      <td>0</td>\n",
              "      <td>0</td>\n",
              "      <td>0</td>\n",
              "      <td>0</td>\n",
              "      <td>0</td>\n",
              "      <td>1</td>\n",
              "      <td>0</td>\n",
              "      <td>4.25</td>\n",
              "      <td>304.555294</td>\n",
              "    </tr>\n",
              "  </tbody>\n",
              "</table>\n",
              "</div>"
            ],
            "text/plain": [
              "   Customer_ID  Month           Name   Age          SSN Occupation  \\\n",
              "0         3392      1  Aaron Maashoh  23.0  821000265.0  Scientist   \n",
              "1         3392      2  Aaron Maashoh  23.0  821000265.0  Scientist   \n",
              "2         3392      3  Aaron Maashoh  23.0  821000265.0  Scientist   \n",
              "3         3392      4  Aaron Maashoh  23.0  821000265.0  Scientist   \n",
              "4         3392      5  Aaron Maashoh  23.0  821000265.0  Scientist   \n",
              "\n",
              "   Annual_Income  Monthly_Inhand_Salary  Num_Bank_Accounts  Num_Credit_Card  \\\n",
              "0       19114.12            1824.843333                3.0              4.0   \n",
              "1       19114.12            1824.843333                3.0              4.0   \n",
              "2       19114.12            1824.843333                3.0              4.0   \n",
              "3       19114.12            1824.843333                3.0              4.0   \n",
              "4       19114.12            1824.843333                3.0              4.0   \n",
              "\n",
              "   Interest_Rate  Num_of_Loan  \\\n",
              "0            3.0          4.0   \n",
              "1            3.0          4.0   \n",
              "2            3.0          4.0   \n",
              "3            3.0          4.0   \n",
              "4            3.0          4.0   \n",
              "\n",
              "                                        Type_of_Loan  Delay_from_due_date  \\\n",
              "0  Auto Loan, Credit-Builder Loan, Personal Loan,...                  3.0   \n",
              "1  Auto Loan, Credit-Builder Loan, Personal Loan,...                  3.0   \n",
              "2  Auto Loan, Credit-Builder Loan, Personal Loan,...                  3.0   \n",
              "3  Auto Loan, Credit-Builder Loan, Personal Loan,...                  5.0   \n",
              "4  Auto Loan, Credit-Builder Loan, Personal Loan,...                  6.0   \n",
              "\n",
              "   Num_of_Delayed_Payment  Changed_Credit_Limit  Num_Credit_Inquiries  \\\n",
              "0                     7.0                 11.27                   4.0   \n",
              "1                     4.0                 11.27                   4.0   \n",
              "2                     7.0                 11.27                   4.0   \n",
              "3                     4.0                  6.27                   4.0   \n",
              "4                     4.0                 11.27                   4.0   \n",
              "\n",
              "  Credit_Mix  Outstanding_Debt  Credit_Utilization_Ratio  Credit_History_Age  \\\n",
              "0       Good            809.98                 26.822620               265.0   \n",
              "1       Good            809.98                 31.944960               266.0   \n",
              "2       Good            809.98                 28.609352               267.0   \n",
              "3       Good            809.98                 31.377862               268.0   \n",
              "4       Good            809.98                 24.797347               269.0   \n",
              "\n",
              "  Payment_of_Min_Amount  Total_EMI_per_month  Amount_invested_monthly  \\\n",
              "0                    No            49.574949                 21.46538   \n",
              "1                    No            49.574949                 21.46538   \n",
              "2                    No            49.574949                 21.46538   \n",
              "3                    No            49.574949                 21.46538   \n",
              "4                    No            49.574949                 21.46538   \n",
              "\n",
              "                  Payment_Behaviour  Monthly_Balance Credit_Score  \\\n",
              "0   High_spent_Small_value_payments       312.494089         Good   \n",
              "1    Low_spent_Large_value_payments       284.629162         Good   \n",
              "2   Low_spent_Medium_value_payments       331.209863         Good   \n",
              "3    Low_spent_Small_value_payments       223.451310         Good   \n",
              "4  High_spent_Medium_value_payments       341.489231         Good   \n",
              "\n",
              "    Annual-cat        history-age-cat age_cat  Auto Loan  Credit-Builder Loan  \\\n",
              "0  Lower-Class  greater_than_10 years   18-23          1                    1   \n",
              "1  Lower-Class  greater_than_10 years   18-23          1                    1   \n",
              "2  Lower-Class  greater_than_10 years   18-23          1                    1   \n",
              "3  Lower-Class  greater_than_10 years   18-23          1                    1   \n",
              "4  Lower-Class  greater_than_10 years   18-23          1                    1   \n",
              "\n",
              "   Personal Loan  Not Specified  No Data  Debt Consolidation Loan  \\\n",
              "0              1              0        0                        0   \n",
              "1              1              0        0                        0   \n",
              "2              1              0        0                        0   \n",
              "3              1              0        0                        0   \n",
              "4              1              0        0                        0   \n",
              "\n",
              "   Payday Loan  Student Loan  Home Equity Loan  Mortgage Loan  \\\n",
              "0            0             0                 1              0   \n",
              "1            0             0                 1              0   \n",
              "2            0             0                 1              0   \n",
              "3            0             0                 1              0   \n",
              "4            0             0                 1              0   \n",
              "\n",
              "   delay_by_customer_mean  monthlyBalance_by_customer_mean  \n",
              "0                    4.25                       304.555294  \n",
              "1                    4.25                       304.555294  \n",
              "2                    4.25                       304.555294  \n",
              "3                    4.25                       304.555294  \n",
              "4                    4.25                       304.555294  "
            ]
          },
          "execution_count": 119,
          "metadata": {},
          "output_type": "execute_result"
        }
      ],
      "source": [
        "data=pd.read_csv(\"credit_score_data.csv\")\n",
        "pd.set_option(\"display.max.columns\", None)\n",
        "data.head()"
      ]
    },
    {
      "cell_type": "markdown",
      "id": "Axx0EyyNZN-h",
      "metadata": {
        "id": "Axx0EyyNZN-h"
      },
      "source": [
        "# Encoding"
      ]
    },
    {
      "cell_type": "code",
      "execution_count": null,
      "id": "3df0f58f",
      "metadata": {
        "id": "3df0f58f"
      },
      "outputs": [],
      "source": [
        "def get_dummy(data,col_name):\n",
        "    col=pd.get_dummies(data[col_name], drop_first=True, prefix= '_')\n",
        "    data = data.drop(col_name, axis= 1)\n",
        "    data= pd.concat([data,col], axis=1)\n",
        "    return data"
      ]
    },
    {
      "cell_type": "code",
      "execution_count": null,
      "id": "ea75098e",
      "metadata": {
        "id": "ea75098e"
      },
      "outputs": [],
      "source": [
        "data=get_dummy(data,'Occupation')\n",
        "data=get_dummy(data,'Payment_Behaviour')"
      ]
    },
    {
      "cell_type": "code",
      "execution_count": null,
      "id": "babf76e7",
      "metadata": {
        "id": "babf76e7"
      },
      "outputs": [],
      "source": [
        "def leve_mapping(data,col_name,dic):\n",
        "    data[col_name]=data[col_name].replace(dic)\n",
        "    return data"
      ]
    },
    {
      "cell_type": "code",
      "execution_count": null,
      "id": "84f5ebd8",
      "metadata": {
        "id": "84f5ebd8"
      },
      "outputs": [],
      "source": [
        "data=leve_mapping(data,'Credit_Mix',{'Good':2,'Standard':1,'Bad':0})\n",
        "data=leve_mapping(data,'Credit_Score',{'Good':2,'Standard':1,'Poor':0})\n",
        "data=leve_mapping(data,'Payment_of_Min_Amount',{'No':2,'NM':1,'Yes':0})"
      ]
    },
    {
      "cell_type": "markdown",
      "id": "3f2b9a5c",
      "metadata": {
        "id": "3f2b9a5c"
      },
      "source": [
        "# processing age "
      ]
    },
    {
      "cell_type": "markdown",
      "id": "3b6f6ed8",
      "metadata": {
        "id": "3b6f6ed8"
      },
      "source": [
        "**When the Age is less than 18, the values will be 18**"
      ]
    },
    {
      "cell_type": "code",
      "execution_count": null,
      "id": "903bf4db",
      "metadata": {
        "id": "903bf4db"
      },
      "outputs": [],
      "source": [
        "data.loc[data[\"Age\"]<18,\"Age\"] = 18"
      ]
    },
    {
      "cell_type": "markdown",
      "id": "a74dd986",
      "metadata": {
        "id": "a74dd986"
      },
      "source": [
        "# Drop irrelevant columns"
      ]
    },
    {
      "cell_type": "code",
      "execution_count": null,
      "id": "2f2002b9",
      "metadata": {
        "id": "2f2002b9"
      },
      "outputs": [],
      "source": [
        "data.drop(['Customer_ID','Name','SSN','Monthly_Inhand_Salary','Type_of_Loan','Annual-cat','history-age-cat','age_cat'],axis=1,inplace=True)"
      ]
    },
    {
      "cell_type": "markdown",
      "id": "1fafc3a8",
      "metadata": {
        "id": "1fafc3a8"
      },
      "source": [
        "# Select one Month to all customers for training"
      ]
    },
    {
      "cell_type": "code",
      "execution_count": null,
      "id": "QbFtEebVxv5K",
      "metadata": {
        "id": "QbFtEebVxv5K"
      },
      "outputs": [],
      "source": [
        "data_month=data[data['Month']==1]\n",
        "X=data_month.drop(['Credit_Score','Month'],axis=1)\n",
        "y=data_month['Credit_Score']"
      ]
    },
    {
      "cell_type": "markdown",
      "id": "u5kV5KcGr0t0",
      "metadata": {
        "id": "u5kV5KcGr0t0"
      },
      "source": [
        "# Feature Selection"
      ]
    },
    {
      "cell_type": "code",
      "execution_count": null,
      "id": "21f30975",
      "metadata": {
        "id": "21f30975"
      },
      "outputs": [],
      "source": [
        "column=X.columns"
      ]
    },
    {
      "cell_type": "markdown",
      "id": "230698ef",
      "metadata": {
        "id": "230698ef"
      },
      "source": [
        "**Using mutual_info_classif**"
      ]
    },
    {
      "cell_type": "code",
      "execution_count": null,
      "id": "12bf9be6",
      "metadata": {
        "id": "12bf9be6",
        "outputId": "07a412fb-daac-4751-dff7-a9dba0d3ba14"
      },
      "outputs": [
        {
          "data": {
            "text/plain": [
              "array(['Annual_Income', 'Num_Bank_Accounts', 'Num_Credit_Card',\n",
              "       'Interest_Rate', 'Num_of_Loan', 'Delay_from_due_date',\n",
              "       'Num_of_Delayed_Payment', 'Changed_Credit_Limit',\n",
              "       'Num_Credit_Inquiries', 'Credit_Mix', 'Outstanding_Debt',\n",
              "       'Credit_History_Age', 'Payment_of_Min_Amount',\n",
              "       'Amount_invested_monthly', 'Monthly_Balance',\n",
              "       'delay_by_customer_mean', 'monthlyBalance_by_customer_mean'],\n",
              "      dtype=object)"
            ]
          },
          "execution_count": 128,
          "metadata": {},
          "output_type": "execute_result"
        }
      ],
      "source": [
        "from sklearn.feature_selection import SelectKBest, mutual_info_classif\n",
        "kbest=SelectKBest(mutual_info_classif,k=17)\n",
        "kbest.fit_transform(X,y)\n",
        "kbest.get_feature_names_out()"
      ]
    },
    {
      "cell_type": "markdown",
      "id": "dd8bb0b8",
      "metadata": {
        "id": "dd8bb0b8"
      },
      "source": [
        "**Using chi2**"
      ]
    },
    {
      "cell_type": "code",
      "execution_count": null,
      "id": "f668b901",
      "metadata": {
        "id": "f668b901",
        "outputId": "cb6b0929-039e-4e5e-898e-c5fa562deace"
      },
      "outputs": [
        {
          "data": {
            "text/plain": [
              "array(['Annual_Income', 'Num_Bank_Accounts', 'Interest_Rate',\n",
              "       'Num_of_Loan', 'Delay_from_due_date', 'Num_of_Delayed_Payment',\n",
              "       'Changed_Credit_Limit', 'Num_Credit_Inquiries', 'Credit_Mix',\n",
              "       'Outstanding_Debt', 'Credit_History_Age', 'Payment_of_Min_Amount',\n",
              "       'Total_EMI_per_month', 'Amount_invested_monthly',\n",
              "       'Monthly_Balance', 'delay_by_customer_mean',\n",
              "       'monthlyBalance_by_customer_mean'], dtype=object)"
            ]
          },
          "execution_count": 129,
          "metadata": {},
          "output_type": "execute_result"
        }
      ],
      "source": [
        "from sklearn.feature_selection import SelectKBest,chi2\n",
        "\n",
        "kbest = SelectKBest(chi2, k=17).fit(X, y)\n",
        "kbest.get_feature_names_out()"
      ]
    },
    {
      "cell_type": "markdown",
      "id": "efc6e80b",
      "metadata": {
        "id": "efc6e80b"
      },
      "source": [
        "**Using f_regression we choose this algorithm because it achieve the best result in the model**"
      ]
    },
    {
      "cell_type": "code",
      "execution_count": null,
      "id": "bqg8fLsWrBYw",
      "metadata": {
        "colab": {
          "base_uri": "https://localhost:8080/"
        },
        "id": "bqg8fLsWrBYw",
        "outputId": "59a28d4c-4825-4015-8e35-e7e630b658e6"
      },
      "outputs": [
        {
          "name": "stdout",
          "output_type": "stream",
          "text": [
            "Annual_Income: 5.29851835344353e-163\n",
            "Num_Bank_Accounts: 0.0\n",
            "Num_Credit_Card: 0.0\n",
            "Interest_Rate: 0.0\n",
            "Num_of_Loan: 0.0\n",
            "Delay_from_due_date: 0.0\n",
            "Num_of_Delayed_Payment: 0.0\n",
            "Changed_Credit_Limit: 4.520970154899447e-100\n",
            "Num_Credit_Inquiries: 0.0\n",
            "Outstanding_Debt: 0.0\n",
            "Credit_History_Age: 0.0\n",
            "Payment_of_Min_Amount: 0.0\n",
            "Amount_invested_monthly: 4.562457108482512e-109\n",
            "Monthly_Balance: 5.999278540491398e-162\n",
            "delay_by_customer_mean: 0.0\n",
            "monthlyBalance_by_customer_mean: 8.467272973303519e-219\n"
          ]
        }
      ],
      "source": [
        "from sklearn.feature_selection import SelectKBest\n",
        "from sklearn.feature_selection import f_regression\n",
        "\n",
        "# Select the top 16 features with the lowest p-values\n",
        "selected_features = SelectKBest(f_regression, k=17).fit(X, y)\n",
        "\n",
        "# Print the names and p-values of the selected features\n",
        "names=[]\n",
        "for feature in selected_features.get_support(indices=True):\n",
        "    if column[feature]=='Credit_Mix':\n",
        "        continue\n",
        "    else:\n",
        "        names.append(column[feature])\n",
        "        print(f\"{column[feature]}: {selected_features.pvalues_[feature]}\")"
      ]
    },
    {
      "cell_type": "code",
      "execution_count": null,
      "id": "NwosEyg_gfmZ",
      "metadata": {
        "id": "NwosEyg_gfmZ",
        "outputId": "2ac5ac81-49c0-4940-d73c-01a82932e640"
      },
      "outputs": [
        {
          "data": {
            "text/plain": [
              "array(['Annual_Income', 'Num_Bank_Accounts', 'Num_Credit_Card',\n",
              "       'Interest_Rate', 'Num_of_Loan', 'Delay_from_due_date',\n",
              "       'Num_of_Delayed_Payment', 'Changed_Credit_Limit',\n",
              "       'Num_Credit_Inquiries', 'Outstanding_Debt', 'Credit_History_Age',\n",
              "       'Payment_of_Min_Amount', 'Amount_invested_monthly',\n",
              "       'Monthly_Balance', 'delay_by_customer_mean',\n",
              "       'monthlyBalance_by_customer_mean'], dtype='<U31')"
            ]
          },
          "execution_count": 131,
          "metadata": {},
          "output_type": "execute_result"
        }
      ],
      "source": [
        "names=np.array(names)\n",
        "names"
      ]
    },
    {
      "cell_type": "markdown",
      "id": "djcGsR-OZa33",
      "metadata": {
        "id": "djcGsR-OZa33"
      },
      "source": [
        "# Split Data after feature selection"
      ]
    },
    {
      "cell_type": "code",
      "execution_count": null,
      "id": "4KDCJqlsyaiu",
      "metadata": {
        "id": "4KDCJqlsyaiu"
      },
      "outputs": [],
      "source": [
        "X_train,X_test,y_train,y_test=train_test_split(X,y,test_size=0.2,random_state=0,stratify=y)"
      ]
    },
    {
      "cell_type": "code",
      "execution_count": null,
      "id": "F3Nv7fRIWiTb",
      "metadata": {
        "id": "F3Nv7fRIWiTb"
      },
      "outputs": [],
      "source": [
        "X_train_new=X_train.loc[:,names]"
      ]
    },
    {
      "cell_type": "code",
      "execution_count": null,
      "id": "5PYWadAWzHQh",
      "metadata": {
        "id": "5PYWadAWzHQh"
      },
      "outputs": [],
      "source": [
        "X_test_new=X_test.loc[:,names]"
      ]
    },
    {
      "cell_type": "markdown",
      "id": "Ys8QiQckQ8lY",
      "metadata": {
        "id": "Ys8QiQckQ8lY"
      },
      "source": [
        "# Standardization"
      ]
    },
    {
      "cell_type": "code",
      "execution_count": null,
      "id": "nPllp8HPRRI3",
      "metadata": {
        "id": "nPllp8HPRRI3"
      },
      "outputs": [],
      "source": [
        "scalar = PowerTransformer(method='yeo-johnson', standardize=True)\n",
        "X_train_scaled = scalar.fit_transform(X_train_new)\n",
        "X_test_scaled = scalar.fit_transform(X_test_new)"
      ]
    },
    {
      "cell_type": "code",
      "execution_count": null,
      "id": "9cad7e6d",
      "metadata": {
        "id": "9cad7e6d"
      },
      "outputs": [],
      "source": [
        "scalar_save = PowerTransformer(method='yeo-johnson', standardize=True).fit(X_train_new)"
      ]
    },
    {
      "cell_type": "markdown",
      "id": "_5KzObv__P83",
      "metadata": {
        "id": "_5KzObv__P83"
      },
      "source": [
        "# Models"
      ]
    },
    {
      "cell_type": "code",
      "execution_count": null,
      "id": "_i0h-cawcf3a",
      "metadata": {
        "id": "_i0h-cawcf3a"
      },
      "outputs": [],
      "source": [
        "cv = StratifiedKFold(3)"
      ]
    },
    {
      "cell_type": "code",
      "execution_count": null,
      "id": "xNbQlxXcTt0N",
      "metadata": {
        "id": "xNbQlxXcTt0N"
      },
      "outputs": [],
      "source": [
        "class Model:\n",
        "    def __init__(self, X_train, X_test, y_train, y_test):\n",
        "        self.X_train = X_train\n",
        "        self.X_test = X_test\n",
        "        self.y_test = y_test\n",
        "        self.y_train = y_train\n",
        "        self.model = None\n",
        "\n",
        "    def fit(self):\n",
        "        return self.model.fit(self.X_train,self.y_train)\n",
        "\n",
        "    def predict(self):\n",
        "        return self.model.predict(self.X_test)\n",
        "    \n",
        "    def classification_Report(self, y_pred):\n",
        "        report = classification_report(self.y_test, y_pred)\n",
        "        return report\n",
        "\n",
        "    def gbM(self):#Score 0.764\n",
        "        self.model = GradientBoostingClassifier(random_state=0)\n",
        "        trained_model=self.fit()\n",
        "        y_pred=self.predict()\n",
        "        report =self.classification_Report(y_pred)\n",
        "        return report,self.model,y_pred"
      ]
    },
    {
      "cell_type": "markdown",
      "id": "e4m1X5RNQr8F",
      "metadata": {
        "id": "e4m1X5RNQr8F"
      },
      "source": [
        "# Calling class"
      ]
    },
    {
      "cell_type": "code",
      "execution_count": null,
      "id": "TGQISCnsZ4B1",
      "metadata": {
        "colab": {
          "base_uri": "https://localhost:8080/"
        },
        "id": "TGQISCnsZ4B1",
        "outputId": "5323168d-3e45-4e1d-f735-e5b72648e993"
      },
      "outputs": [
        {
          "name": "stdout",
          "output_type": "stream",
          "text": [
            "              precision    recall  f1-score   support\n",
            "\n",
            "           0       0.78      0.72      0.75       716\n",
            "           1       0.79      0.82      0.80      1389\n",
            "           2       0.66      0.67      0.66       395\n",
            "\n",
            "    accuracy                           0.77      2500\n",
            "   macro avg       0.74      0.73      0.74      2500\n",
            "weighted avg       0.77      0.77      0.77      2500\n",
            "\n",
            "GradientBoostingClassifier(random_state=0)\n"
          ]
        }
      ],
      "source": [
        "gradient=Model(X_train_scaled,X_test_scaled,y_train,y_test)\n",
        "report,model,y_pred =gradient.gbM()\n",
        "print(report)\n",
        "print(model)"
      ]
    },
    {
      "cell_type": "code",
      "execution_count": null,
      "id": "25dc8b9a",
      "metadata": {
        "id": "25dc8b9a",
        "outputId": "32b87ac2-05ff-475b-fef7-292b49286a13"
      },
      "outputs": [
        {
          "data": {
            "text/plain": [
              "array([[ 513,  177,   26],\n",
              "       [ 141, 1138,  110],\n",
              "       [   1,  130,  264]], dtype=int64)"
            ]
          },
          "execution_count": 140,
          "metadata": {},
          "output_type": "execute_result"
        }
      ],
      "source": [
        "confusion_matrix(y_test,y_pred)"
      ]
    },
    {
      "cell_type": "markdown",
      "id": "e22e80f0",
      "metadata": {
        "id": "e22e80f0"
      },
      "source": [
        "# Classification Report for training "
      ]
    },
    {
      "cell_type": "code",
      "execution_count": null,
      "id": "U33JF8SGeaHy",
      "metadata": {
        "colab": {
          "base_uri": "https://localhost:8080/"
        },
        "id": "U33JF8SGeaHy",
        "outputId": "f5f5996c-e36f-48d2-f7c9-7db843080f7f"
      },
      "outputs": [
        {
          "name": "stdout",
          "output_type": "stream",
          "text": [
            "              precision    recall  f1-score   support\n",
            "\n",
            "           0       0.83      0.74      0.78      2866\n",
            "           1       0.81      0.85      0.83      5554\n",
            "           2       0.69      0.68      0.69      1580\n",
            "\n",
            "    accuracy                           0.79     10000\n",
            "   macro avg       0.78      0.76      0.77     10000\n",
            "weighted avg       0.80      0.79      0.79     10000\n",
            "\n"
          ]
        }
      ],
      "source": [
        "y_pred=model.predict(X_train_scaled)\n",
        "print(classification_report(y_train,y_pred))"
      ]
    },
    {
      "cell_type": "code",
      "execution_count": null,
      "id": "lJfdVHYmSORx",
      "metadata": {
        "colab": {
          "base_uri": "https://localhost:8080/",
          "height": 551
        },
        "id": "lJfdVHYmSORx",
        "outputId": "2428d03b-17f9-49c2-d7d1-39e4fb8cef03"
      },
      "outputs": [
        {
          "data": {
            "text/html": [
              "<div>\n",
              "<style scoped>\n",
              "    .dataframe tbody tr th:only-of-type {\n",
              "        vertical-align: middle;\n",
              "    }\n",
              "\n",
              "    .dataframe tbody tr th {\n",
              "        vertical-align: top;\n",
              "    }\n",
              "\n",
              "    .dataframe thead th {\n",
              "        text-align: right;\n",
              "    }\n",
              "</style>\n",
              "<table border=\"1\" class=\"dataframe\">\n",
              "  <thead>\n",
              "    <tr style=\"text-align: right;\">\n",
              "      <th></th>\n",
              "      <th>importance</th>\n",
              "    </tr>\n",
              "  </thead>\n",
              "  <tbody>\n",
              "    <tr>\n",
              "      <th>Outstanding_Debt</th>\n",
              "      <td>0.3207</td>\n",
              "    </tr>\n",
              "    <tr>\n",
              "      <th>Interest_Rate</th>\n",
              "      <td>0.1949</td>\n",
              "    </tr>\n",
              "    <tr>\n",
              "      <th>Payment_of_Min_Amount</th>\n",
              "      <td>0.1569</td>\n",
              "    </tr>\n",
              "    <tr>\n",
              "      <th>Num_Credit_Card</th>\n",
              "      <td>0.0755</td>\n",
              "    </tr>\n",
              "    <tr>\n",
              "      <th>Changed_Credit_Limit</th>\n",
              "      <td>0.0563</td>\n",
              "    </tr>\n",
              "    <tr>\n",
              "      <th>Delay_from_due_date</th>\n",
              "      <td>0.0428</td>\n",
              "    </tr>\n",
              "    <tr>\n",
              "      <th>Num_Credit_Inquiries</th>\n",
              "      <td>0.0371</td>\n",
              "    </tr>\n",
              "    <tr>\n",
              "      <th>Num_of_Delayed_Payment</th>\n",
              "      <td>0.0340</td>\n",
              "    </tr>\n",
              "    <tr>\n",
              "      <th>Num_Bank_Accounts</th>\n",
              "      <td>0.0281</td>\n",
              "    </tr>\n",
              "    <tr>\n",
              "      <th>Credit_History_Age</th>\n",
              "      <td>0.0133</td>\n",
              "    </tr>\n",
              "    <tr>\n",
              "      <th>delay_by_customer_mean</th>\n",
              "      <td>0.0110</td>\n",
              "    </tr>\n",
              "    <tr>\n",
              "      <th>Monthly_Balance</th>\n",
              "      <td>0.0082</td>\n",
              "    </tr>\n",
              "    <tr>\n",
              "      <th>monthlyBalance_by_customer_mean</th>\n",
              "      <td>0.0071</td>\n",
              "    </tr>\n",
              "    <tr>\n",
              "      <th>Annual_Income</th>\n",
              "      <td>0.0065</td>\n",
              "    </tr>\n",
              "    <tr>\n",
              "      <th>Amount_invested_monthly</th>\n",
              "      <td>0.0060</td>\n",
              "    </tr>\n",
              "    <tr>\n",
              "      <th>Num_of_Loan</th>\n",
              "      <td>0.0016</td>\n",
              "    </tr>\n",
              "  </tbody>\n",
              "</table>\n",
              "</div>"
            ],
            "text/plain": [
              "                                 importance\n",
              "Outstanding_Debt                     0.3207\n",
              "Interest_Rate                        0.1949\n",
              "Payment_of_Min_Amount                0.1569\n",
              "Num_Credit_Card                      0.0755\n",
              "Changed_Credit_Limit                 0.0563\n",
              "Delay_from_due_date                  0.0428\n",
              "Num_Credit_Inquiries                 0.0371\n",
              "Num_of_Delayed_Payment               0.0340\n",
              "Num_Bank_Accounts                    0.0281\n",
              "Credit_History_Age                   0.0133\n",
              "delay_by_customer_mean               0.0110\n",
              "Monthly_Balance                      0.0082\n",
              "monthlyBalance_by_customer_mean      0.0071\n",
              "Annual_Income                        0.0065\n",
              "Amount_invested_monthly              0.0060\n",
              "Num_of_Loan                          0.0016"
            ]
          },
          "execution_count": 169,
          "metadata": {},
          "output_type": "execute_result"
        }
      ],
      "source": [
        "feature_importances=np.around(model.feature_importances_,4)\n",
        "df = pd.DataFrame({'importance': feature_importances}, index=names)\n",
        "df.sort_values(by='importance',ascending=False)"
      ]
    },
    {
      "cell_type": "markdown",
      "id": "enNGP5HzkFv0",
      "metadata": {
        "id": "enNGP5HzkFv0"
      },
      "source": [
        "# Fine Tuning"
      ]
    },
    {
      "cell_type": "code",
      "execution_count": null,
      "id": "3wEOM0iF1ZBq",
      "metadata": {
        "id": "3wEOM0iF1ZBq"
      },
      "outputs": [],
      "source": [
        "def randomSearch(X_train,y_train,estimator, parameters, cv):\n",
        "    random_search = RandomizedSearchCV(estimator,param_distributions=parameters, cv=cv, scoring='accuracy',n_iter=300, n_jobs=-1, random_state=0)\n",
        "    random_search.fit(X_train,y_train)       \n",
        "    return random_search"
      ]
    },
    {
      "cell_type": "markdown",
      "id": "USFXBV7SlIPA",
      "metadata": {
        "id": "USFXBV7SlIPA"
      },
      "source": [
        "**Gradient boosting model fine tuning hyper parameter**"
      ]
    },
    {
      "cell_type": "code",
      "execution_count": null,
      "id": "Vk4egBK3kZHE",
      "metadata": {
        "colab": {
          "base_uri": "https://localhost:8080/"
        },
        "id": "Vk4egBK3kZHE",
        "outputId": "c0414cd4-cb73-4c00-854d-f18f5a25d03e"
      },
      "outputs": [
        {
          "name": "stdout",
          "output_type": "stream",
          "text": [
            "GradientBoostingClassifier(criterion='squared_error', learning_rate=0.01,\n",
            "                           max_depth=6, max_features='log2', n_estimators=300,\n",
            "                           random_state=0)\n",
            "{'n_estimators': 300, 'max_features': 'log2', 'max_depth': 6, 'learning_rate': 0.01, 'criterion': 'squared_error'}\n",
            "0.7615008051495012\n"
          ]
        }
      ],
      "source": [
        "# Create the parameter grid\n",
        "param_grid = {\n",
        "    'n_estimators': [100, 200,300,400,500],\n",
        "    'learning_rate': [0.01,0.05,0.1],\n",
        "    'criterion': ['friedman_mse','squared_error'],\n",
        "    'max_features': [None,'auto','sqrt','log2'],\n",
        "    'max_depth':[3,4,6,8]}\n",
        "\n",
        "gbm = GradientBoostingClassifier(random_state=0)\n",
        "gbm_search=randomSearch(X_train_scaled,y_train,gbm,param_grid,cv)\n",
        "\n",
        "best_estimator=gbm_search.best_estimator_\n",
        "best_params= gbm_search.best_params_\n",
        "best_score=gbm_search.best_score_ \n",
        "\n",
        "print(best_estimator)\n",
        "print(best_params)\n",
        "print(best_score)"
      ]
    },
    {
      "cell_type": "markdown",
      "id": "2dd0b5c0",
      "metadata": {
        "id": "2dd0b5c0"
      },
      "source": [
        "# Model After fine Tuning on testing data"
      ]
    },
    {
      "cell_type": "code",
      "execution_count": null,
      "id": "IISzKqs_0OWY",
      "metadata": {
        "colab": {
          "base_uri": "https://localhost:8080/"
        },
        "id": "IISzKqs_0OWY",
        "outputId": "cb2eaae6-7117-4ee8-9d7f-0d2627ab6e40",
        "scrolled": true
      },
      "outputs": [
        {
          "name": "stdout",
          "output_type": "stream",
          "text": [
            "              precision    recall  f1-score   support\n",
            "\n",
            "           0       0.80      0.70      0.74       716\n",
            "           1       0.78      0.83      0.80      1389\n",
            "           2       0.65      0.65      0.65       395\n",
            "\n",
            "    accuracy                           0.76      2500\n",
            "   macro avg       0.74      0.73      0.73      2500\n",
            "weighted avg       0.76      0.76      0.76      2500\n",
            "\n"
          ]
        }
      ],
      "source": [
        "y_pred=gbm_search.predict(X_test_scaled)\n",
        "print(classification_report(y_test,y_pred))"
      ]
    },
    {
      "cell_type": "markdown",
      "id": "738cc891",
      "metadata": {
        "id": "738cc891"
      },
      "source": [
        "# Model After fine Tuning on training data"
      ]
    },
    {
      "cell_type": "code",
      "execution_count": null,
      "id": "daa76df6",
      "metadata": {
        "id": "daa76df6",
        "outputId": "f7e3648e-d27c-4e0a-bae8-26fb8f33d33c"
      },
      "outputs": [
        {
          "name": "stdout",
          "output_type": "stream",
          "text": [
            "              precision    recall  f1-score   support\n",
            "\n",
            "           0       0.86      0.76      0.81      2866\n",
            "           1       0.83      0.87      0.85      5554\n",
            "           2       0.72      0.74      0.73      1580\n",
            "\n",
            "    accuracy                           0.82     10000\n",
            "   macro avg       0.80      0.79      0.80     10000\n",
            "weighted avg       0.82      0.82      0.82     10000\n",
            "\n"
          ]
        }
      ],
      "source": [
        "y_pred=gbm_search.predict(X_train_scaled)\n",
        "print(classification_report(y_train,y_pred))"
      ]
    },
    {
      "cell_type": "markdown",
      "id": "0026a1e1",
      "metadata": {
        "id": "0026a1e1"
      },
      "source": [
        "# Saving model to disk"
      ]
    },
    {
      "cell_type": "code",
      "execution_count": null,
      "id": "P5eyOosrg8YN",
      "metadata": {
        "id": "P5eyOosrg8YN"
      },
      "outputs": [],
      "source": [
        "pickle.dump(scalar_save, open('final_scaler.pkl','wb'))"
      ]
    },
    {
      "cell_type": "code",
      "execution_count": null,
      "id": "UwmMU2oGwjyn",
      "metadata": {
        "id": "UwmMU2oGwjyn"
      },
      "outputs": [],
      "source": [
        "# Saving model to disk\n",
        "pickle.dump(model, open('final_model.pkl','wb'))"
      ]
    },
    {
      "cell_type": "code",
      "execution_count": null,
      "id": "f0d44120",
      "metadata": {
        "id": "f0d44120"
      },
      "outputs": [],
      "source": []
    }
  ],
  "metadata": {
    "accelerator": "GPU",
    "colab": {
      "provenance": []
    },
    "gpuClass": "standard",
    "kernelspec": {
      "display_name": "Python 3 (ipykernel)",
      "language": "python",
      "name": "python3"
    },
    "language_info": {
      "codemirror_mode": {
        "name": "ipython",
        "version": 3
      },
      "file_extension": ".py",
      "mimetype": "text/x-python",
      "name": "python",
      "nbconvert_exporter": "python",
      "pygments_lexer": "ipython3",
      "version": "3.9.13"
    }
  },
  "nbformat": 4,
  "nbformat_minor": 5
}