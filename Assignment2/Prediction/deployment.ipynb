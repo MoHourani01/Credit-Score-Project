{
  "cells": [
    {
      "cell_type": "markdown",
      "id": "d29579a0",
      "metadata": {
        "id": "d29579a0"
      },
      "source": [
        "# import libraries"
      ]
    },
    {
      "cell_type": "code",
      "execution_count": null,
      "id": "4c57981c",
      "metadata": {
        "id": "4c57981c"
      },
      "outputs": [],
      "source": [
        "import numpy as np\n",
        "import pickle"
      ]
    },
    {
      "cell_type": "markdown",
      "id": "729874e8",
      "metadata": {
        "id": "729874e8"
      },
      "source": [
        "# Open the model and scaler"
      ]
    },
    {
      "cell_type": "code",
      "execution_count": null,
      "id": "65575642",
      "metadata": {
        "id": "65575642"
      },
      "outputs": [],
      "source": [
        "scaler=pickle.load(open('final_scaler.pkl', 'rb'))\n",
        "model=pickle.load(open('final_model.pkl', 'rb'))"
      ]
    },
    {
      "cell_type": "markdown",
      "id": "01803ca8",
      "metadata": {
        "id": "01803ca8"
      },
      "source": [
        "# Enter values"
      ]
    },
    {
      "cell_type": "code",
      "execution_count": null,
      "id": "cfc4faef",
      "metadata": {
        "id": "cfc4faef"
      },
      "outputs": [],
      "source": [
        "lst_of_ranges=['Annual Income (7K-180K)','Number of Bank Accounts (0-11)',\n",
        "              'Num of Credit Card (0-11)','Intrest Rate (1-34)','Number of Loans (0-9)',\n",
        "              'Delay from Due Date (0-62)','Num of Delayed Payment (0-25)',\n",
        "             'Changed Credit Limit (0.5-30)','Number of Credit Inquiries (0-17)','Oustanding Debt (0.23-5K)',\n",
        "              'Credit History Age (1-404)','Payment of Min Amonunt (0,1,2)','Ammount Invested Monthly (0-435)',\n",
        "             'Monthly Balance (0-1200)' ,'Delay By Customer Mean (0-62)','Monthly Balance by Customer (0-1200)']"
      ]
    },
    {
      "cell_type": "code",
      "execution_count": null,
      "id": "4521506e",
      "metadata": {
        "scrolled": true,
        "id": "4521506e",
        "outputId": "001b79f1-fd81-4248-dfa7-d30c152c93d0"
      },
      "outputs": [
        {
          "name": "stdout",
          "output_type": "stream",
          "text": [
            "Enter the value for Annual Income (7K-180K) :100000\n",
            "Enter the value for Number of Bank Accounts (0-11) :5\n",
            "Enter the value for Num of Credit Card (0-11) :5\n",
            "Enter the value for Intrest Rate (1-34) :20\n",
            "Enter the value for Number of Loans (0-9) :6\n",
            "Enter the value for Delay from Due Date (0-62) :50\n",
            "Enter the value for Num of Delayed Payment (0-25) :15\n",
            "Enter the value for Changed Credit Limit (0.5-30) :15\n",
            "Enter the value for Number of Credit Inquiries (0-17) :12\n",
            "Enter the value for Oustanding Debt (0.23-5K) :600\n",
            "Enter the value for Credit History Age (1-404) :200\n",
            "Enter the value for Payment of Min Amonunt (0,1,2) :1\n",
            "Enter the value for Ammount Invested Monthly (0-435) :200\n",
            "Enter the value for Monthly Balance (0-1200) :2250\n",
            "Enter the value for Delay By Customer Mean (0-62) :50\n",
            "Enter the value for Monthly Balance by Customer (0-1200) :600\n"
          ]
        }
      ],
      "source": [
        "lst_values=[]\n",
        "for i in lst_of_ranges:\n",
        "    value=input(f'Enter the value for {i} :')\n",
        "    lst_values.append(value)\n",
        "x_test=[np.array(lst_values)]"
      ]
    },
    {
      "cell_type": "code",
      "execution_count": null,
      "id": "458f88ff",
      "metadata": {
        "id": "458f88ff",
        "outputId": "9fe93012-0e01-4c5f-d650-3624ea268d5b"
      },
      "outputs": [
        {
          "name": "stderr",
          "output_type": "stream",
          "text": [
            "C:\\Users\\LENOVO\\anaconda3\\lib\\site-packages\\sklearn\\base.py:450: UserWarning: X does not have valid feature names, but PowerTransformer was fitted with feature names\n",
            "  warnings.warn(\n"
          ]
        },
        {
          "data": {
            "text/plain": [
              "array([[ 1.24630107, -0.14044346, -0.21141467,  0.71701023,  1.00581911,\n",
              "         1.64291533,  0.27150564,  0.77971192,  1.65571873, -0.61064046,\n",
              "        -0.14718988,  0.54742581,  2.62501546,  5.00282798,  1.82132212,\n",
              "         1.40741419]])"
            ]
          },
          "execution_count": 8,
          "metadata": {},
          "output_type": "execute_result"
        }
      ],
      "source": [
        "x_test=[np.array(lst_values)]\n",
        "x_test_scaled=scaler.transform(x_test)\n",
        "x_test_scaled"
      ]
    },
    {
      "cell_type": "markdown",
      "id": "d9d1fa1c",
      "metadata": {
        "id": "d9d1fa1c"
      },
      "source": [
        "# Make predictions"
      ]
    },
    {
      "cell_type": "code",
      "execution_count": null,
      "id": "353ab3ac",
      "metadata": {
        "id": "353ab3ac",
        "outputId": "8dc3dada-2b28-4237-a640-8b0700164e87"
      },
      "outputs": [
        {
          "name": "stdout",
          "output_type": "stream",
          "text": [
            "The Credit Score is  Standard\n"
          ]
        }
      ],
      "source": [
        "prediction = model.predict(x_test_scaled)\n",
        "prediction = prediction[0]\n",
        "if prediction == 0:\n",
        "    output = 'Poor'\n",
        "elif prediction == 1:\n",
        "    output = 'Standard'  \n",
        "else:\n",
        "    output = 'Good' \n",
        "    \n",
        "prediction_text='The Credit Score is  {}'.format(output)\n",
        "print(prediction_text)"
      ]
    },
    {
      "cell_type": "code",
      "execution_count": null,
      "id": "fc815620",
      "metadata": {
        "id": "fc815620"
      },
      "outputs": [],
      "source": []
    }
  ],
  "metadata": {
    "kernelspec": {
      "display_name": "Python 3 (ipykernel)",
      "language": "python",
      "name": "python3"
    },
    "language_info": {
      "codemirror_mode": {
        "name": "ipython",
        "version": 3
      },
      "file_extension": ".py",
      "mimetype": "text/x-python",
      "name": "python",
      "nbconvert_exporter": "python",
      "pygments_lexer": "ipython3",
      "version": "3.9.13"
    },
    "colab": {
      "provenance": []
    }
  },
  "nbformat": 4,
  "nbformat_minor": 5
}